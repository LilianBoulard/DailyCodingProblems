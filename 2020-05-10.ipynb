{
 "cells": [
  {
   "cell_type": "markdown",
   "metadata": {},
   "source": [
    "> Given a list of numbers and a number `k`, return whether any two numbers from the list add up to k.\n",
    "For example, given `[10, 15, 3, 7]` and `k` of 17, return `true` since 10 + 7 is 17."
   ]
  },
  {
   "cell_type": "markdown",
   "metadata": {},
   "source": [
    "# Basic\n",
    "The following is a simple, not very efficient solution.\n",
    "Time complexity : O(N²)"
   ]
  },
  {
   "cell_type": "code",
   "execution_count": 2,
   "metadata": {},
   "outputs": [
    {
     "name": "stdout",
     "output_type": "stream",
     "text": [
      "True\n"
     ]
    }
   ],
   "source": [
    "num_list = [10, 15, 3, 7]\n",
    "target = 17\n",
    "\n",
    "def sum_to_target(num_list: list, target: int) -> bool:\n",
    "    for i in num_list:\n",
    "        for j in num_list:\n",
    "            if ((i + j) == target):\n",
    "                return True\n",
    "    return False\n",
    "        \n",
    "print(sum_to_target(num_list, target))"
   ]
  },
  {
   "cell_type": "code",
   "execution_count": 3,
   "metadata": {},
   "outputs": [
    {
     "name": "stdout",
     "output_type": "stream",
     "text": [
      "List | Target | Result\n",
      "[6, -9, -4, -5, -10] | -2 | False\n",
      "[-10, 9, 10, -9, 5] | -10 | False\n",
      "[-2, -2, 0, 5, 2] | 2 | True\n",
      "[7, 6, -8, 7, 10] | 0 | False\n",
      "[5, -7, -10, -10, 5] | 2 | False\n",
      "[9, 0, -5, -8, 5] | -4 | False\n",
      "[-10, 2, 3, 6, 4] | -2 | False\n",
      "[1, -4, -1, 0, 2] | 2 | True\n",
      "[-8, -1, -4, -8, 8] | -8 | True\n",
      "[-6, -10, 3, -10, 7] | -10 | False\n"
     ]
    }
   ],
   "source": [
    "# Testing the above function\n",
    "\n",
    "import random\n",
    "\n",
    "allowed_range = (-10, 10)\n",
    "print(\"List | Target | Result\")\n",
    "for i in range(10):\n",
    "    new_list = [random.randint(*allowed_range) for x in range(5)]\n",
    "    target = random.randint(*allowed_range)\n",
    "    print(new_list, target, sum_to_target(new_list, target), sep = \" | \")"
   ]
  },
  {
   "cell_type": "markdown",
   "metadata": {},
   "source": [
    "# Reducing possibilities \n",
    "One way to improve the program's efficiency would be to filter the possibilities."
   ]
  },
  {
   "cell_type": "code",
   "execution_count": 4,
   "metadata": {},
   "outputs": [
    {
     "name": "stdout",
     "output_type": "stream",
     "text": [
      "[[ 0  3  7 10 15]\n",
      " [ 3  6 10 13 18]\n",
      " [ 7 10 14 17 22]\n",
      " [10 13 17 20 25]\n",
      " [15 18 22 25 30]]\n"
     ]
    }
   ],
   "source": [
    "# First, let's see what it looks like in a table.\n",
    "\n",
    "import numpy as np\n",
    "\n",
    "num_list = [10, 15, 3, 7]\n",
    "num_list.sort()\n",
    "target = 17\n",
    "\n",
    "p = np.empty((len(num_list) + 1, len(num_list) + 1)).astype(int)\n",
    "\n",
    "# Sets first row and first column\n",
    "p[1:, 0] = p[0, 1:] = num_list\n",
    "\n",
    "for i in range(len(num_list) + 1)[1:]: # For each row\n",
    "    for j in range(len(num_list) + 1)[1:]: # For each column\n",
    "        # We sum up the values\n",
    "        p[i, j] = p[i, 0] + p[0, j]\n",
    "\n",
    "# What we have now is a table with each cell representing the sum of \n",
    "# the corresponding row and column.\n",
    "print(p)"
   ]
  },
  {
   "cell_type": "markdown",
   "metadata": {},
   "source": [
    "Alright. So, as we can see, the up-left and bottom-right corners are kind of useless : they contain way too large or way too small values ; we do not need to compute all of them to get our answer.\n",
    "\n",
    "What we can do instead is to start the loop in the top-right corner (bottom-left would work as well) and go left if the value is superior to the target, down if the value is inferior.\n",
    "\n",
    "\n",
    "Let's put that into code."
   ]
  },
  {
   "cell_type": "code",
   "execution_count": 5,
   "metadata": {},
   "outputs": [
    {
     "name": "stdout",
     "output_type": "stream",
     "text": [
      "[[ 0  3  9 11 12 15]\n",
      " [ 3  0  0  0 15 18]\n",
      " [ 9 12 18 20 21  0]\n",
      " [11 14  0  0  0  0]\n",
      " [12 15  0  0  0  0]\n",
      " [15 18  0  0  0  0]]\n"
     ]
    }
   ],
   "source": [
    "import numpy as np\n",
    "\n",
    "num_list = [9, 12, 15, 11, 3]\n",
    "num_list.sort()\n",
    "target = 17\n",
    "\n",
    "def sum_to_target(num_list: list, target: int):\n",
    "    p = np.empty((len(num_list) + 1, len(num_list) + 1)).astype(int)\n",
    "    # Sets first row and first column\n",
    "    p[1:, 0] = p[0, 1:] = num_list\n",
    "    \n",
    "    i = 1 # We start from row 1\n",
    "    for j in range(len(num_list), -1, -1): # For each column, starting from the end\n",
    "        while True:\n",
    "            value = p[i, 0] + p[0, j]\n",
    "            p[i, j] = value\n",
    "            if value < target:\n",
    "                if i < len(num_list):\n",
    "                    i += 1\n",
    "                else:\n",
    "                    return p\n",
    "            else:\n",
    "                break\n",
    "        if value >= target:\n",
    "            continue\n",
    "    # This return is necessary in case we have a value larger than the target in the list\n",
    "    return p \n",
    "\n",
    "print(sum_to_target(num_list, target))"
   ]
  },
  {
   "cell_type": "markdown",
   "metadata": {},
   "source": [
    "Great !\n",
    "\n",
    "From what we can see, the script is processing the edge between the closest too large and too small values. We can also see is that the array is symmetrical, meaning we do not need to process it all ; only running through half will do the trick.\n",
    "\n",
    "Cool, let's modify the function so it answers the question correctly."
   ]
  },
  {
   "cell_type": "code",
   "execution_count": 6,
   "metadata": {},
   "outputs": [
    {
     "name": "stdout",
     "output_type": "stream",
     "text": [
      "True\n"
     ]
    }
   ],
   "source": [
    "import numpy as np\n",
    "\n",
    "num_list = [10, 12, 15, 11, 3, 7]\n",
    "num_list.sort()\n",
    "target = 17\n",
    "\n",
    "def sum_to_target_filt(num_list: list, target: int) -> bool:\n",
    "    nb = 0\n",
    "    \n",
    "    p = np.empty((len(num_list) + 1, len(num_list) + 1)).astype(int)\n",
    "\n",
    "    # Sets first row and first column\n",
    "    p[1:, 0] = p[0, 1:] = num_list\n",
    "    \n",
    "    i = 1 # We start from row 1\n",
    "    # For each column, starting from the end\n",
    "    for j in range(len(num_list), -1, -1):\n",
    "        while True:\n",
    "            if nb > len(num_list):\n",
    "                return False\n",
    "            value = p[i, 0] + p[0, j]\n",
    "            p[i, j] = value\n",
    "            if value < target:\n",
    "                if i < len(num_list):\n",
    "                    nb += 1\n",
    "                    i += 1\n",
    "                else:\n",
    "                    return False\n",
    "            else:\n",
    "                break\n",
    "        if value > target:\n",
    "            nb += 1\n",
    "            continue\n",
    "        if value == target:\n",
    "            return True\n",
    "    return False\n",
    "\n",
    "\n",
    "print(sum_to_target_filt(num_list, target))"
   ]
  },
  {
   "cell_type": "code",
   "execution_count": 7,
   "metadata": {},
   "outputs": [
    {
     "name": "stdout",
     "output_type": "stream",
     "text": [
      "List | Target | Result\n",
      "[7, -9, 1, -6, 2] | -10 | False\n",
      "[8, -5, -3, 0, 3] | 6 | False\n",
      "[-10, -3, 2, 10, -5] | 0 | False\n",
      "[7, -4, -7, -4, -1] | 2 | False\n",
      "[-2, -9, -9, -4, 1] | -10 | False\n",
      "[0, -7, -1, -2, -9] | 8 | False\n",
      "[-9, -4, -10, 10, -9] | -3 | False\n",
      "[-8, -8, 7, -5, -5] | 0 | False\n",
      "[-10, 10, 6, -2, 1] | 8 | True\n",
      "[-8, -10, 2, -8, -10] | 0 | False\n"
     ]
    }
   ],
   "source": [
    "# Testing the above function\n",
    "\n",
    "import random\n",
    "\n",
    "allowed_range = (-10, 10)\n",
    "print(\"List | Target | Result\")\n",
    "for i in range(10):\n",
    "    new_list = [random.randint(*allowed_range) for x in range(5)]\n",
    "    target = random.randint(*allowed_range)\n",
    "    print(new_list, target, sum_to_target_filt(new_list, target), sep = \" | \")"
   ]
  },
  {
   "cell_type": "markdown",
   "metadata": {},
   "source": [
    "# Conclusion\n",
    "I'm pretty happy with the result, and I can't think of a way to improve the system even more.\n",
    "\n",
    "The final time complexity is O((N * log(N)) / 2)."
   ]
  }
 ],
 "metadata": {
  "kernelspec": {
   "display_name": "Python 3",
   "language": "python",
   "name": "python3"
  },
  "language_info": {
   "codemirror_mode": {
    "name": "ipython",
    "version": 3
   },
   "file_extension": ".py",
   "mimetype": "text/x-python",
   "name": "python",
   "nbconvert_exporter": "python",
   "pygments_lexer": "ipython3",
   "version": "3.8.1"
  }
 },
 "nbformat": 4,
 "nbformat_minor": 4
}
