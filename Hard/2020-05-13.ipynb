{
 "cells": [
  {
   "cell_type": "markdown",
   "metadata": {},
   "source": [
    "> Given an array of integers, find the first missing positive integer in linear time and constant space. In other words, find the lowest positive integer that does not exist in the array. The array can contain duplicates and negative numbers as well.\n",
    "\n",
    "> For example, the input `[3, 4, -1, 1]` should give `2`. The input `[1, 2, 0]` should give `3`."
   ]
  },
  {
   "cell_type": "markdown",
   "metadata": {},
   "source": [
    "# Basic\n",
    "Here is a simple solution, not the most effective for large sets of integers."
   ]
  },
  {
   "cell_type": "code",
   "execution_count": 1,
   "metadata": {},
   "outputs": [
    {
     "name": "stdout",
     "output_type": "stream",
     "text": [
      "[-1, 1, 3, 4] => 2\n",
      "[0, 1, 2] => 3\n",
      "[1, 2, 3, 4, 4, 5, 6, 7, 9, 11] => 8\n",
      "[-3, -2] => 1\n",
      "[0, 0] => 1\n"
     ]
    }
   ],
   "source": [
    "num_lists = [\n",
    "    [3, 4,-1, 1],\n",
    "    [1, 2, 0],\n",
    "    [1, 2, 3, 4, 4, 5, 6, 7, 9, 11],\n",
    "    [-2, -3],\n",
    "    [0, 0]\n",
    "]\n",
    "\n",
    "def find_missing_integer_basic(num_list: list) -> int:\n",
    "    num_list.sort()\n",
    "    incr = 1\n",
    "    for i, n in enumerate(num_list):\n",
    "        if n > 0:  # Takes care of negative integers and 0.\n",
    "            if n != i + incr:\n",
    "                if n < i + incr:  # Takes care of duplicates\n",
    "                    incr -= 1\n",
    "                else:\n",
    "                    return i + incr\n",
    "        else:\n",
    "            incr -= 1\n",
    "    else:\n",
    "        # Returns the last item of the list incremented if that last element\n",
    "        # is positive, otherwise, return 1.\n",
    "        return num_list[-1:][0] + 1 if num_list[-1:][0] > 0 else 1\n",
    "\n",
    "for num_list in num_lists:\n",
    "    print(num_list, \"=>\", find_missing_integer_basic(num_list))"
   ]
  },
  {
   "cell_type": "markdown",
   "metadata": {},
   "source": [
    "Right now it's almost midnight because I got late on this problem, so I'll come back to it later, see if I can improve the thing (even though we have a pretty good solution there)."
   ]
  }
 ],
 "metadata": {
  "kernelspec": {
   "display_name": "Python 3",
   "language": "python",
   "name": "python3"
  },
  "language_info": {
   "codemirror_mode": {
    "name": "ipython",
    "version": 3
   },
   "file_extension": ".py",
   "mimetype": "text/x-python",
   "name": "python",
   "nbconvert_exporter": "python",
   "pygments_lexer": "ipython3",
   "version": "3.8.1"
  }
 },
 "nbformat": 4,
 "nbformat_minor": 4
}
