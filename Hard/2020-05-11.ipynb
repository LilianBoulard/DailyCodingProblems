{
 "cells": [
  {
   "cell_type": "markdown",
   "metadata": {},
   "source": [
    "> Given an array of integers, return a new array such that each element at index `i` of the new array is the product of all the numbers in the original array except the one at `i`.\n",
    "\n",
    ">For example, if our input was `[1, 2, 3, 4, 5]`, the expected output would be `[120, 60, 40, 30, 24]`. If our input was `[3, 2, 1]`, the expected output would be `[2, 3, 6]`."
   ]
  },
  {
   "cell_type": "markdown",
   "metadata": {},
   "source": [
    "# Basic\n",
    "First, here is a simple solution.\n",
    "Time complexity : `O(N + N)`."
   ]
  },
  {
   "cell_type": "code",
   "execution_count": 1,
   "metadata": {},
   "outputs": [
    {
     "name": "stdout",
     "output_type": "stream",
     "text": [
      "[1, 2, 3, 4, 5] => [120, 60, 40, 30, 24]\n",
      "[3, 2, 1] => [2, 3, 6]\n"
     ]
    }
   ],
   "source": [
    "from math import prod\n",
    "\n",
    "num_lists = [\n",
    "    [1, 2, 3, 4, 5],\n",
    "    [3, 2, 1],\n",
    "]\n",
    "\n",
    "def product_list(num_list: list) -> list:\n",
    "    final_array = []\n",
    "    for i, n in enumerate(num_list):\n",
    "        if i == 0:\n",
    "            final_array.append(prod(num_list[1:]))\n",
    "        elif i == len(num_list) - 1:\n",
    "            final_array.append(prod(num_list[:-1]))\n",
    "        else:\n",
    "            final_array.append(prod(num_list[:i] + num_list[i + 1:]))\n",
    "    return final_array\n",
    "\n",
    "for num_list in num_lists:\n",
    "    print(num_list, \"=>\", product_list(num_list))"
   ]
  },
  {
   "cell_type": "markdown",
   "metadata": {},
   "source": [
    "Ok, so we got something working ; let's see if we can improve the performance.\n",
    "\n",
    "First off, I'm thinking of something like a [Merkle Tree](https://en.wikipedia.org/wiki/Merkle_tree)-style Binary Tree, with each node [memoized](https://en.wikipedia.org/wiki/Memoization).\n",
    "\n",
    "Let's try."
   ]
  },
  {
   "cell_type": "code",
   "execution_count": null,
   "metadata": {},
   "outputs": [],
   "source": [
    "..."
   ]
  },
  {
   "cell_type": "markdown",
   "metadata": {},
   "source": [
    "## Update : a few hours later\n",
    "Hm... Yeah...\n",
    "\n",
    "I kind of struggled to find a way of implementing such a tree without it being more computationally expensive than the basic solution.\n",
    "\n",
    "Here's what I came up to :"
   ]
  },
  {
   "cell_type": "code",
   "execution_count": 2,
   "metadata": {},
   "outputs": [
    {
     "name": "stdout",
     "output_type": "stream",
     "text": [
      "[1, 2, 3, 4, 5] => [120, 60, 40, 30, 24]\n",
      "[3, 2, 1] => [2, 3, 6]\n"
     ]
    }
   ],
   "source": [
    "def product_list_improved(num_list: list) -> list:\n",
    "\n",
    "    def process_couple(num_list: list, i: int, memo: dict) -> int:\n",
    "        result = 1\n",
    "        for x in range(len(num_list)):\n",
    "            # For the next loop, we process the values as couples (x, x+1)\n",
    "            if x % 2 == 0:\n",
    "                if i is x:\n",
    "                    try:\n",
    "                        result *= num_list[x + 1]\n",
    "                    except IndexError:\n",
    "                        # This case only happens when i and x are at\n",
    "                        # the last value in the list ; \n",
    "                        # therefore we can return the result.\n",
    "                        return result\n",
    "                elif i is (x + 1):\n",
    "                    result *= num_list[x]\n",
    "                else:\n",
    "                    try:\n",
    "                        result *= memo[str(x) + str(x + 1)] # May raise KeyError (unlikely)\n",
    "                    except KeyError:\n",
    "                        result *= memo[str(x) + \"1\"]\n",
    "        return result\n",
    "\n",
    "    final_array = []\n",
    "    memo = {}\n",
    "\n",
    "    # Construct 2D tree in variable \"memo\"\n",
    "    for i in range(0, len(num_list), 2):\n",
    "        name = str(i)\n",
    "        value = num_list[i]\n",
    "        try:\n",
    "            # Try to add the value to i, so that we have a couple.\n",
    "            value *= num_list[i + 1]\n",
    "            name += str(i + 1)\n",
    "        except IndexError:\n",
    "            name += \"1\"\n",
    "        memo[name] = value\n",
    "    \n",
    "    for i in range(len(num_list)):\n",
    "        final_array.append(process_couple(num_list, i, memo))\n",
    "\n",
    "    return final_array\n",
    "\n",
    "for num_list in num_lists:\n",
    "    print(num_list, \"=>\", product_list_improved(num_list))"
   ]
  },
  {
   "cell_type": "markdown",
   "metadata": {},
   "source": [
    "**Neat !** And much more compact than what I though I could do !\n",
    "\n",
    "As you can see, the tree is 2D.\n",
    "One could try to make it 3D, not me, I've already spent way too much time on this problem.\n",
    "\n",
    "I'd say time complexity is `O(N + N / 2)` and space complexity is `O(N / 2)`.\n",
    "I'm not 100% sure these are the right values, so please correct me if I'm wrong !\n",
    "\n",
    ">I couldn't find a way to construct the memo along the way, so this function builds it beforehand, that's why the complexity is very similar to the basic example.\n",
    "\n",
    "Now, let's experiment !"
   ]
  },
  {
   "cell_type": "code",
   "execution_count": 3,
   "metadata": {},
   "outputs": [
    {
     "name": "stdout",
     "output_type": "stream",
     "text": [
      "GOOD: Results are the same for both functions !\n",
      "[10, 15] [15, 10] [15, 10]\n",
      "GOOD: Results are the same for both functions !\n",
      "[26, 10, 23] [230, 598, 260] [230, 598, 260]\n",
      "GOOD: Results are the same for both functions !\n",
      "[2, 2, 20, 26] [1040, 1040, 104, 80] [1040, 1040, 104, 80]\n",
      "GOOD: Results are the same for both functions !\n",
      "[37, 12, 40, 5, 14] [33600, 103600, 31080, 248640, 88800] [33600, 103600, 31080, 248640, 88800]\n"
     ]
    }
   ],
   "source": [
    "# First, let's do verifications\n",
    "\n",
    "from random import randint\n",
    "\n",
    "for i in [2, 3, 4, 5]:\n",
    "    new_list = [randint(1, i * 10) for _ in range(i)]\n",
    "    results1 = product_list(new_list)\n",
    "    results2 = product_list_improved(new_list)\n",
    "    if results1 == results2:\n",
    "        print(f\"GOOD: Results are the same for both functions !\")\n",
    "    else:\n",
    "        print(f\"BAD: Results are NOT the same !\")\n",
    "    print(new_list, results1, results2)"
   ]
  },
  {
   "cell_type": "code",
   "execution_count": 4,
   "metadata": {},
   "outputs": [
    {
     "name": "stdout",
     "output_type": "stream",
     "text": [
      "It took 0.0 seconds to process a list of 10 integers with function product_list.\n",
      "It took 0.0 seconds to process a list of 10 integers with function product_list_improved.\n",
      "\n",
      "\n",
      "It took 0.0 seconds to process a list of 20 integers with function product_list.\n",
      "It took 0.001001119613647461 seconds to process a list of 20 integers with function product_list_improved.\n",
      "\n",
      "\n",
      "It took 0.0 seconds to process a list of 30 integers with function product_list.\n",
      "It took 0.0009996891021728516 seconds to process a list of 30 integers with function product_list_improved.\n",
      "\n",
      "\n",
      "It took 0.0029997825622558594 seconds to process a list of 40 integers with function product_list.\n",
      "It took 0.0020017623901367188 seconds to process a list of 40 integers with function product_list_improved.\n",
      "\n",
      "\n",
      "It took 0.005999326705932617 seconds to process a list of 50 integers with function product_list.\n",
      "It took 0.007002115249633789 seconds to process a list of 50 integers with function product_list_improved.\n",
      "\n",
      "\n",
      "It took 0.19299769401550293 seconds to process a list of 100 integers with function product_list.\n",
      "It took 0.19300031661987305 seconds to process a list of 100 integers with function product_list_improved.\n",
      "\n",
      "\n",
      "It took 18.97622013092041 seconds to process a list of 250 integers with function product_list.\n",
      "It took 21.10755228996277 seconds to process a list of 250 integers with function product_list_improved.\n",
      "\n",
      "\n"
     ]
    }
   ],
   "source": [
    "# Second test: speeeeed\n",
    "\n",
    "import time\n",
    "\n",
    "for i in [10, 20, 30, 40, 50, 100, 250]:\n",
    "    for fc in [\"product_list\", \"product_list_improved\"]:\n",
    "        # We're making the difficulty exponential\n",
    "        new_list = [int(\"1\" * i) for x in range(i)]\n",
    "        tic = time.time()\n",
    "        results = globals()[fc](new_list)\n",
    "        toc = time.time()\n",
    "        print(f\"It took {toc - tic} seconds to process a list of {i} integers\",\n",
    "              f\"with function {fc}.\")\n",
    "    print(\"\\n\")"
   ]
  },
  {
   "cell_type": "markdown",
   "metadata": {},
   "source": [
    "Meh...\n",
    "\n",
    "I'd say it is not that fast because it's Python. Migrated over a performance-focused language such as C++, the stats would be very different I believe.\n",
    "\n",
    "Do whatever want with that :)"
   ]
  }
 ],
 "metadata": {
  "kernelspec": {
   "display_name": "Python 3",
   "language": "python",
   "name": "python3"
  },
  "language_info": {
   "codemirror_mode": {
    "name": "ipython",
    "version": 3
   },
   "file_extension": ".py",
   "mimetype": "text/x-python",
   "name": "python",
   "nbconvert_exporter": "python",
   "pygments_lexer": "ipython3",
   "version": "3.8.1"
  }
 },
 "nbformat": 4,
 "nbformat_minor": 4
}
