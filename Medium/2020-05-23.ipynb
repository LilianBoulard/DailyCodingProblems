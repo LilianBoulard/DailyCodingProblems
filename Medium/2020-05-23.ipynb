{
 "cells": [
  {
   "cell_type": "markdown",
   "metadata": {},
   "source": [
    "> The area of a circle is defined as πr^2. \n",
    "Estimate π to 3 decimal places using a Monte Carlo method."
   ]
  },
  {
   "cell_type": "markdown",
   "metadata": {},
   "source": [
    "# Basic\n",
    "A simple implementation of pi's approximation using the Monte Carlo method."
   ]
  },
  {
   "cell_type": "code",
   "execution_count": 4,
   "metadata": {},
   "outputs": [
    {
     "name": "stdout",
     "output_type": "stream",
     "text": [
      "100 3.03\n",
      "1000 3.107\n",
      "10000 3.162\n",
      "100000 3.138\n",
      "1000000 3.142\n"
     ]
    }
   ],
   "source": [
    "from random import random\n",
    "\n",
    "all_tries = [100, 1000, 10000, 100000, 1000000]\n",
    "\n",
    "def approximate_pi(tries: int) -> float:\n",
    "    p = 0\n",
    "    \n",
    "    for n in range(tries):\n",
    "        x = random()\n",
    "        y = random()\n",
    "        \n",
    "        # We take a square of size 1. We assume that the try landed in the circle's area\n",
    "        # if the distance from the origin (defined as x = 0, y = 0) is inferior to the size\n",
    "        # of the square -> 1.\n",
    "        if (x**2 + y**2) <= 1:\n",
    "            p += 1\n",
    "    \n",
    "    # Finally, the ratio between the number of tries that landed in the circle's area\n",
    "    # over the total number of tries gives us the approximation of pi.\n",
    "    # As we are using a quarter of the circle, we multiply this value by 4.\n",
    "    return round(4 * (p / n), 3)  # Returns the value to three decimals.\n",
    "\n",
    "for tries in all_tries:\n",
    "    print(tries, approximate_pi(tries))\n"
   ]
  }
 ],
 "metadata": {
  "kernelspec": {
   "display_name": "Python 3",
   "language": "python",
   "name": "python3"
  },
  "language_info": {
   "codemirror_mode": {
    "name": "ipython",
    "version": 3
   },
   "file_extension": ".py",
   "mimetype": "text/x-python",
   "name": "python",
   "nbconvert_exporter": "python",
   "pygments_lexer": "ipython3",
   "version": "3.8.1"
  }
 },
 "nbformat": 4,
 "nbformat_minor": 4
}
