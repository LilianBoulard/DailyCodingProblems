{
 "cells": [
  {
   "cell_type": "markdown",
   "metadata": {},
   "source": [
    "> Given the mapping a = 1, b = 2, ... z = 26, and an encoded message, count the number of ways it can be decoded.\n",
    "\n",
    "> For example, the message '111' would give 3, since it could be decoded as 'aaa', 'ka', and 'ak'.\n",
    "\n",
    "> You can assume that the messages are decodable. For example, '001' is not allowed."
   ]
  },
  {
   "cell_type": "markdown",
   "metadata": {},
   "source": [
    "# Basic\n",
    "Right off the bat, I assume the implied solution would be [dynamic programming](https://en.wikipedia.org/wiki/Dynamic_programming) (you know, recusivity, memoization...).\n",
    "\n",
    "So let's just do that."
   ]
  },
  {
   "cell_type": "code",
   "execution_count": 1,
   "metadata": {},
   "outputs": [
    {
     "name": "stdout",
     "output_type": "stream",
     "text": [
      "111 3\n",
      "1212 4\n",
      "123456789 9\n"
     ]
    }
   ],
   "source": [
    "# Only recursive\n",
    "# We only gather the number of possible ways\n",
    "\n",
    "messages = [\n",
    "    \"111\",\n",
    "    \"1212\",\n",
    "    \"123456789\",\n",
    "]\n",
    "\n",
    "def decode_only_rec_blind(message: str, index: int = 0, comb: int = 0) -> int:\n",
    "    if int(message[index]) in range(1, 10):\n",
    "        comb += 1\n",
    "    try:\n",
    "        if int(message[index] + message[index + 1]) in range(1, 27):\n",
    "            comb + 1\n",
    "    except IndexError:\n",
    "        pass\n",
    "\n",
    "    if index < len(message) - 1:\n",
    "        comb = decode_only_rec_blind(message, index + 1, comb) # Recursivity comes into place\n",
    "\n",
    "    return comb\n",
    "\n",
    "for message in messages:\n",
    "    print(message, decode_only_rec_blind(message))"
   ]
  },
  {
   "cell_type": "code",
   "execution_count": 2,
   "metadata": {},
   "outputs": [
    {
     "name": "stdout",
     "output_type": "stream",
     "text": [
      "111 aaaaa\n",
      "1212 aabbaab\n",
      "123456789 aabbcdefghi\n"
     ]
    }
   ],
   "source": [
    "# Only recursive, but this time, we also want all the ways possible\n",
    "\n",
    "messages = [\n",
    "    \"111\",\n",
    "    \"1212\",\n",
    "    \"123456789\",\n",
    "]\n",
    "\n",
    "char = lambda x: chr(int(x) + 96)\n",
    "\n",
    "def decode_only_rec(message: str, index: int = 0, comb: str = \"\") -> int:\n",
    "    if int(message[index]) in range(1, 10):\n",
    "        comb += char(message[index])\n",
    "    try:\n",
    "        if int(message[index] + message[index + 1]) in range(1, 27):\n",
    "            comb += char(message[index])\n",
    "    except IndexError:\n",
    "        pass\n",
    "\n",
    "    if index < len(message) - 1:\n",
    "        comb = decode_only_rec(message, index + 1, comb) # Recursivity comes into place\n",
    "\n",
    "    return comb\n",
    "\n",
    "for message in messages:\n",
    "    print(message, decode_only_rec(message))"
   ]
  },
  {
   "cell_type": "markdown",
   "metadata": {},
   "source": [
    "# After staring for a while at my screen having no idea what's going on whatsoever\n",
    "I have no fucking idea on how to implement that.\n",
    "\n",
    "![IllBeBackURL](https://66.media.tumblr.com/e62da66d9d029ac71f412f9f35c324f4/tumblr_mrkw5cQmia1sp9fcho1_500.gifv \"I'll be back\")"
   ]
  }
 ],
 "metadata": {
  "kernelspec": {
   "display_name": "Python 3",
   "language": "python",
   "name": "python3"
  },
  "language_info": {
   "codemirror_mode": {
    "name": "ipython",
    "version": 3
   },
   "file_extension": ".py",
   "mimetype": "text/x-python",
   "name": "python",
   "nbconvert_exporter": "python",
   "pygments_lexer": "ipython3",
   "version": "3.8.1"
  }
 },
 "nbformat": 4,
 "nbformat_minor": 4
}
