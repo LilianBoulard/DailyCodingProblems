{
 "cells": [
  {
   "cell_type": "markdown",
   "metadata": {},
   "source": [
    "> Given a stream of elements too large to store in memory, pick a random element from the stream with uniform probability."
   ]
  },
  {
   "cell_type": "markdown",
   "metadata": {},
   "source": [
    "Turns out I was facing a similar problem a long time ago, so this is rather easy to solve !"
   ]
  },
  {
   "cell_type": "code",
   "execution_count": 2,
   "metadata": {},
   "outputs": [],
   "source": [
    "import random\n",
    "\n",
    "def choose_uniform(stream: list) -> int:\n",
    "    for i, x in enumerate(stream):\n",
    "        # We initiate the variable during the very first iteration.\n",
    "        if i == 0:\n",
    "            chosen = x\n",
    "        # Every iteration, the chance of the current number getting picked is 1 / (i + 1).\n",
    "        if random.randint(1, i + 1) == 1:\n",
    "            chosen = x\n",
    "    return chosen"
   ]
  },
  {
   "cell_type": "markdown",
   "metadata": {},
   "source": [
    "## Testing time !"
   ]
  },
  {
   "cell_type": "code",
   "execution_count": 3,
   "metadata": {},
   "outputs": [
    {
     "name": "stdout",
     "output_type": "stream",
     "text": [
      "4772 9044 391\n"
     ]
    }
   ],
   "source": [
    "print(\n",
    "    choose_uniform(range(0, 10000)),\n",
    "    choose_uniform(range(0, 10000)),\n",
    "    choose_uniform(range(0, 10000)),\n",
    ")"
   ]
  },
  {
   "cell_type": "markdown",
   "metadata": {},
   "source": [
    "Nice, looks good to me !"
   ]
  }
 ],
 "metadata": {
  "kernelspec": {
   "display_name": "Python 3",
   "language": "python",
   "name": "python3"
  },
  "language_info": {
   "codemirror_mode": {
    "name": "ipython",
    "version": 3
   },
   "file_extension": ".py",
   "mimetype": "text/x-python",
   "name": "python",
   "nbconvert_exporter": "python",
   "pygments_lexer": "ipython3",
   "version": "3.8.1"
  }
 },
 "nbformat": 4,
 "nbformat_minor": 4
}
