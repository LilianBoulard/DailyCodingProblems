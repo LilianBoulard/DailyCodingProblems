{
 "cells": [
  {
   "cell_type": "markdown",
   "metadata": {},
   "source": [
    "> Write an algorithm to justify text. Given a sequence of words and an integer line length k, return a list of strings which represents each line, fully justified.\n",
    "\n",
    "> More specifically, you should have as many words as possible in each line. There should be at least one space between each word. Pad extra spaces when necessary so that each line has exactly length k. Spaces should be distributed as equally as possible, with the extra spaces, if any, distributed starting from the left.\n",
    "\n",
    "> If you can only fit one word on a line, then you should pad the right-hand side with spaces.\n",
    "\n",
    "> Each word is guaranteed not to be longer than k.\n",
    "\n",
    "> For example, given the list of words [\"the\", \"quick\", \"brown\", \"fox\", \"jumps\", \"over\", \"the\", \"lazy\", \"dog\"] and k = 16, you should return the following:\n",
    "\n",
    "> `\n",
    "[\"the  quick brown\", # 1 extra space on the left\n",
    "\"fox  jumps  over\", # 2 extra spaces distributed evenly\n",
    "\"the   lazy   dog\"] # 4 extra spaces distributed evenly\n",
    "`"
   ]
  },
  {
   "cell_type": "code",
   "execution_count": 59,
   "metadata": {},
   "outputs": [],
   "source": [
    "def justify(word_list: list, k: int) -> None:\n",
    "    length = 0\n",
    "    words = []\n",
    "    \n",
    "    for i, w in enumerate(word_list):\n",
    "        length += len(w)\n",
    "        if length >= k:\n",
    "            # Takes care of the case where a word is too long to fit in one line\n",
    "            if len(words) != 0:\n",
    "                print_justified(words, k)\n",
    "                length = len(w) + 1\n",
    "                words = [w]\n",
    "            else:\n",
    "                raise Exception(f\"The word {w} is longer than the line length ({k}).\")\n",
    "        else:\n",
    "            words.append(w)  # Adds the word to a temporary list\n",
    "            length += 1  # Adds one space \"after\" the word\n",
    "    else:  # Executed once the EOL is reached.\n",
    "        if len(words) != 0:\n",
    "            print_justified(words, k)\n",
    "\n",
    "def print_justified(words: list, k: int) -> None:\n",
    "    words_length = sum([len(w) for w in words])\n",
    "    space_left = k - words_length  # How many spaces must be fitted in the sentence\n",
    "    # The round number of spaces between each word :\n",
    "    space_num = (space_left // (len(words) - 1)) if len(words) != 1 else space_left\n",
    "    # Extra spaces that could not be fitted equally between the words\n",
    "    remain = k - (space_num * (len(words) -1) + words_length)\n",
    "    if remain > 0 and len(words) > 1:\n",
    "        for i in range(remain):\n",
    "            words[i] += \" \"\n",
    "    print(str(\" \" * space_num).join(words))  # Finally, print the justified sentence"
   ]
  },
  {
   "cell_type": "code",
   "execution_count": 65,
   "metadata": {},
   "outputs": [
    {
     "name": "stdout",
     "output_type": "stream",
     "text": [
      "the  quick  brown\n",
      "fox   jumps  over\n",
      "the    lazy   dog\n",
      "\n",
      "\n",
      "I   wish  I  had  a\n",
      "position  at Google\n",
      "\n",
      "\n",
      "Thanks   for  taking  the\n",
      "time  to  go  through  my\n",
      "code   by   the   way  :)\n",
      "\n",
      "\n",
      "Lorem      ipsum\n",
      "dolor  sit  amet\n",
      "consectetur\n",
      "adipiscing  elit\n",
      "sed  do  eiusmod\n",
      "tempor\n",
      "incididunt    ut\n",
      "labore        et\n",
      "dolore     magna\n",
      "aliqua  Ut  enim\n",
      "ad  minim veniam\n",
      "quis     nostrud\n",
      "exercitation\n",
      "ullamco  laboris\n",
      "nisi  ut aliquip\n",
      "ex   ea  commodo\n",
      "consequat   Duis\n",
      "aute       irure\n",
      "dolor         in\n",
      "reprehenderit\n",
      "in     voluptate\n",
      "velit       esse\n",
      "cillum    dolore\n",
      "eu  fugiat nulla\n",
      "pariatur\n",
      "Excepteur   sint\n",
      "occaecat\n",
      "cupidatat    non\n",
      "proident    sunt\n",
      "in   culpa   qui\n",
      "officia\n",
      "deserunt  mollit\n",
      "anim    id   est\n",
      "laborum\n",
      "\n",
      "\n"
     ]
    },
    {
     "ename": "Exception",
     "evalue": "The word Honorificabilitudinitatibus is longer than the line length (24).",
     "output_type": "error",
     "traceback": [
      "\u001b[1;31m---------------------------------------------------------------------------\u001b[0m",
      "\u001b[1;31mException\u001b[0m                                 Traceback (most recent call last)",
      "\u001b[1;32m<ipython-input-65-05af66de4ee9>\u001b[0m in \u001b[0;36m<module>\u001b[1;34m\u001b[0m\n\u001b[0;32m     20\u001b[0m \u001b[1;33m\u001b[0m\u001b[0m\n\u001b[0;32m     21\u001b[0m \u001b[1;32mfor\u001b[0m \u001b[0msentence\u001b[0m \u001b[1;32min\u001b[0m \u001b[0msentences\u001b[0m\u001b[1;33m:\u001b[0m\u001b[1;33m\u001b[0m\u001b[1;33m\u001b[0m\u001b[0m\n\u001b[1;32m---> 22\u001b[1;33m     \u001b[0mjustify\u001b[0m\u001b[1;33m(\u001b[0m\u001b[0msentence\u001b[0m\u001b[1;33m,\u001b[0m \u001b[0mrandint\u001b[0m\u001b[1;33m(\u001b[0m\u001b[1;36m15\u001b[0m\u001b[1;33m,\u001b[0m \u001b[1;36m25\u001b[0m\u001b[1;33m)\u001b[0m\u001b[1;33m)\u001b[0m\u001b[1;33m\u001b[0m\u001b[1;33m\u001b[0m\u001b[0m\n\u001b[0m\u001b[0;32m     23\u001b[0m     \u001b[0mprint\u001b[0m\u001b[1;33m(\u001b[0m\u001b[1;34m\"\\n\"\u001b[0m\u001b[1;33m)\u001b[0m\u001b[1;33m\u001b[0m\u001b[1;33m\u001b[0m\u001b[0m\n",
      "\u001b[1;32m<ipython-input-59-5607fdf04026>\u001b[0m in \u001b[0;36mjustify\u001b[1;34m(word_list, k)\u001b[0m\n\u001b[0;32m     12\u001b[0m                 \u001b[0mwords\u001b[0m \u001b[1;33m=\u001b[0m \u001b[1;33m[\u001b[0m\u001b[0mw\u001b[0m\u001b[1;33m]\u001b[0m\u001b[1;33m\u001b[0m\u001b[1;33m\u001b[0m\u001b[0m\n\u001b[0;32m     13\u001b[0m             \u001b[1;32melse\u001b[0m\u001b[1;33m:\u001b[0m\u001b[1;33m\u001b[0m\u001b[1;33m\u001b[0m\u001b[0m\n\u001b[1;32m---> 14\u001b[1;33m                 \u001b[1;32mraise\u001b[0m \u001b[0mException\u001b[0m\u001b[1;33m(\u001b[0m\u001b[1;34mf\"The word {w} is longer than the line length ({k}).\"\u001b[0m\u001b[1;33m)\u001b[0m\u001b[1;33m\u001b[0m\u001b[1;33m\u001b[0m\u001b[0m\n\u001b[0m\u001b[0;32m     15\u001b[0m         \u001b[1;32melse\u001b[0m\u001b[1;33m:\u001b[0m\u001b[1;33m\u001b[0m\u001b[1;33m\u001b[0m\u001b[0m\n\u001b[0;32m     16\u001b[0m             \u001b[0mwords\u001b[0m\u001b[1;33m.\u001b[0m\u001b[0mappend\u001b[0m\u001b[1;33m(\u001b[0m\u001b[0mw\u001b[0m\u001b[1;33m)\u001b[0m  \u001b[1;31m# Adds the word to a temporary list\u001b[0m\u001b[1;33m\u001b[0m\u001b[1;33m\u001b[0m\u001b[0m\n",
      "\u001b[1;31mException\u001b[0m: The word Honorificabilitudinitatibus is longer than the line length (24)."
     ]
    }
   ],
   "source": [
    "# Time to test !\n",
    "\n",
    "from random import randint\n",
    "\n",
    "sentences = [\n",
    "    [\"the\", \"quick\", \"brown\", \"fox\", \"jumps\", \"over\", \"the\", \"lazy\", \"dog\"],\n",
    "    [\"I\", \"wish\", \"I\", \"had\", \"a\", \"position\", \"at\", \"Google\"],\n",
    "    [\"Thanks\", \"for\", \"taking\", \"the\", \"time\", \"to\", \"go\", \"through\", \n",
    "     \"my\", \"code\", \"by\", \"the\", \"way\", \":)\"],\n",
    "    ['Lorem', 'ipsum', 'dolor', 'sit', 'amet', 'consectetur', 'adipiscing', 'elit', \n",
    "     'sed', 'do', 'eiusmod', 'tempor', 'incididunt', 'ut', 'labore', 'et', 'dolore', \n",
    "     'magna', 'aliqua', 'Ut', 'enim', 'ad', 'minim', 'veniam', 'quis', 'nostrud', \n",
    "     'exercitation', 'ullamco', 'laboris', 'nisi', 'ut', 'aliquip', 'ex', 'ea', \n",
    "     'commodo', 'consequat', 'Duis', 'aute', 'irure', 'dolor', 'in', 'reprehenderit', \n",
    "     'in', 'voluptate', 'velit', 'esse', 'cillum', 'dolore', 'eu', 'fugiat', 'nulla', \n",
    "     'pariatur', 'Excepteur', 'sint', 'occaecat', 'cupidatat', 'non', 'proident', 'sunt', \n",
    "     'in', 'culpa', 'qui', 'officia', 'deserunt', 'mollit', 'anim', 'id', 'est', 'laborum'],\n",
    "    [\"Honorificabilitudinitatibus\"],\n",
    "]\n",
    "\n",
    "for sentence in sentences:\n",
    "    justify(sentence, randint(15, 25))\n",
    "    print(\"\\n\")"
   ]
  },
  {
   "cell_type": "markdown",
   "metadata": {},
   "source": [
    "There :)"
   ]
  }
 ],
 "metadata": {
  "kernelspec": {
   "display_name": "Python 3",
   "language": "python",
   "name": "python3"
  },
  "language_info": {
   "codemirror_mode": {
    "name": "ipython",
    "version": 3
   },
   "file_extension": ".py",
   "mimetype": "text/x-python",
   "name": "python",
   "nbconvert_exporter": "python",
   "pygments_lexer": "ipython3",
   "version": "3.8.1"
  }
 },
 "nbformat": 4,
 "nbformat_minor": 4
}
