{
 "cells": [
  {
   "cell_type": "markdown",
   "metadata": {},
   "source": [
    "> Implement a job scheduler which takes in a function f and an integer n, and calls f after n milliseconds."
   ]
  },
  {
   "cell_type": "code",
   "execution_count": 1,
   "metadata": {},
   "outputs": [
    {
     "name": "stdout",
     "output_type": "stream",
     "text": [
      "I was called after 50 milliseconds !\n",
      "I was called after 100 milliseconds !\n",
      "I was called after 150 milliseconds !\n",
      "I was called after 200 milliseconds !\n",
      "I was called after 250 milliseconds !\n",
      "I was called after 300 milliseconds !\n",
      "I was called after 350 milliseconds !\n",
      "I was called after 400 milliseconds !\n",
      "I was called after 450 milliseconds !\n",
      "I was called after 500 milliseconds !\n",
      "I was called after 550 milliseconds !\n",
      "I was called after 600 milliseconds !\n",
      "I was called after 650 milliseconds !\n",
      "I was called after 700 milliseconds !\n",
      "I was called after 750 milliseconds !\n",
      "I was called after 800 milliseconds !\n",
      "I was called after 850 milliseconds !\n",
      "I was called after 900 milliseconds !\n",
      "I was called after 950 milliseconds !\n",
      "I was called after 1000 milliseconds !\n"
     ]
    }
   ],
   "source": [
    "from time import sleep\n",
    "\n",
    "def call_me(n) -> None:\n",
    "    print(f\"I was called after {n} milliseconds !\")\n",
    "    return\n",
    "\n",
    "def job(f: callable, n: int) -> None:\n",
    "    for i in range(20): # 20 execution (to avoid an infinite loop)\n",
    "        sleep(n * 0.001)\n",
    "        f(n * (i + 1))\n",
    "\n",
    "job(call_me, 50)"
   ]
  },
  {
   "cell_type": "markdown",
   "metadata": {},
   "source": [
    "Hum... It's too easy... Something's off..."
   ]
  }
 ],
 "metadata": {
  "kernelspec": {
   "display_name": "Python 3",
   "language": "python",
   "name": "python3"
  },
  "language_info": {
   "codemirror_mode": {
    "name": "ipython",
    "version": 3
   },
   "file_extension": ".py",
   "mimetype": "text/x-python",
   "name": "python",
   "nbconvert_exporter": "python",
   "pygments_lexer": "ipython3",
   "version": "3.8.1"
  }
 },
 "nbformat": 4,
 "nbformat_minor": 4
}
