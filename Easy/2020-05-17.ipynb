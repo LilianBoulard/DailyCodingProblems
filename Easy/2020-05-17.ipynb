{
 "cells": [
  {
   "cell_type": "markdown",
   "metadata": {},
   "source": [
    "> Given a binary tree, write a function that returns the number of non-empty universal tree it contains.\n",
    "> For instance, given this tree :\n",
    "\n",
    "        0\n",
    "       / \\\n",
    "      1   0\n",
    "         / \\\n",
    "        1   0\n",
    "       / \\\n",
    "      1   1\n",
    "\n",
    "> The function should return `5`."
   ]
  },
  {
   "cell_type": "code",
   "execution_count": 22,
   "metadata": {},
   "outputs": [],
   "source": [
    "# Let's define a node\n",
    "\n",
    "class Node:\n",
    "    def __init__(self, value: int, left_node = None, right_node = None):\n",
    "        self.value = value\n",
    "        self.left_node = left_node\n",
    "        self.right_node = right_node"
   ]
  },
  {
   "cell_type": "code",
   "execution_count": 23,
   "metadata": {},
   "outputs": [],
   "source": [
    "# Next, let's recreate the binary tree in code\n",
    "\n",
    "tree = Node(0,\n",
    "           Node(1),\n",
    "           Node(0,\n",
    "               Node(1,\n",
    "                   Node(1),\n",
    "                   Node(1)\n",
    "                   ),\n",
    "               Node(0)\n",
    "               )\n",
    "           )"
   ]
  },
  {
   "cell_type": "code",
   "execution_count": 24,
   "metadata": {},
   "outputs": [
    {
     "name": "stdout",
     "output_type": "stream",
     "text": [
      "5\n"
     ]
    }
   ],
   "source": [
    "# Next, the helper and recusive functions\n",
    "\n",
    "def helper(tree: Node) -> int:\n",
    "    num = num_universal_tree(tree)\n",
    "    return num\n",
    "\n",
    "\n",
    "def num_universal_tree(node: Node) -> int:\n",
    "    if not node:\n",
    "        return 0\n",
    "    \n",
    "    # We initialise it true because a tree with only one value (like a leaf) \n",
    "    # is counted as a unival tree.\n",
    "    same_value = True\n",
    "    \n",
    "    if node.left_node:\n",
    "        if not node.left_node.value == node.value:\n",
    "            same_value = False\n",
    "    \n",
    "    if node.right_node:\n",
    "        if not node.right_node.value == node.value:\n",
    "            same_value = False\n",
    "    \n",
    "    num = 1 if same_value else 0\n",
    "    \n",
    "    return num + num_universal_tree(node.left_node) + num_universal_tree(node.right_node)\n",
    "\n",
    "\n",
    "print(helper(tree))"
   ]
  },
  {
   "cell_type": "markdown",
   "metadata": {},
   "source": [
    "By thinking a while about it, I realized that it is not entirely correct.\n",
    "\n",
    "Let's try again."
   ]
  },
  {
   "cell_type": "code",
   "execution_count": 25,
   "metadata": {},
   "outputs": [
    {
     "name": "stdout",
     "output_type": "stream",
     "text": [
      "5\n"
     ]
    }
   ],
   "source": [
    "# Next, the helper and recusive functions\n",
    "\n",
    "def helper(tree: Node) -> int:\n",
    "    num = num_universal_tree(tree)\n",
    "    return num\n",
    "\n",
    "\n",
    "def is_universal_tree(node: Node) -> bool:\n",
    "    if not node:\n",
    "        return True\n",
    "    \n",
    "    if node.left_node:\n",
    "        if not node.left_node.value == node.value or not is_universal_tree(node.left_node):\n",
    "            return False\n",
    "    \n",
    "    if node.right_node:\n",
    "        if not node.right_node.value == node.value or not is_universal_tree(node.right_node):\n",
    "            return False\n",
    "    \n",
    "    return True\n",
    "    \n",
    "\n",
    "def num_universal_tree(node: Node) -> int:\n",
    "    num = 1 if is_universal_tree(node) else 0\n",
    "    \n",
    "    if node.left_node:\n",
    "        num += num_universal_tree(node.left_node)\n",
    "    \n",
    "    if node.right_node:\n",
    "        num += num_universal_tree(node.right_node)\n",
    "    \n",
    "    return num\n",
    "\n",
    "\n",
    "print(helper(tree))"
   ]
  },
  {
   "cell_type": "markdown",
   "metadata": {},
   "source": [
    "Same result, but this one gives the right answer when dealing with deep unival trees."
   ]
  }
 ],
 "metadata": {
  "kernelspec": {
   "display_name": "Python 3",
   "language": "python",
   "name": "python3"
  },
  "language_info": {
   "codemirror_mode": {
    "name": "ipython",
    "version": 3
   },
   "file_extension": ".py",
   "mimetype": "text/x-python",
   "name": "python",
   "nbconvert_exporter": "python",
   "pygments_lexer": "ipython3",
   "version": "3.8.1"
  }
 },
 "nbformat": 4,
 "nbformat_minor": 4
}
