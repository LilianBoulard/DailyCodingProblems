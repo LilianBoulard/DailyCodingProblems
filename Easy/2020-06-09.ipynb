{
 "cells": [
  {
   "cell_type": "markdown",
   "metadata": {},
   "source": [
    "> The edit distance between two strings refers to the minimum number of character insertions, deletions, and substitutions required to change one string to the other. For example, the edit distance between \"kitten\" and \"sitting\" is three: substitute the \"k\" for \"s\", substitute the \"e\" for \"i\", and append a \"g\".\n",
    "\n",
    "> Given two strings, compute the edit distance between them."
   ]
  },
  {
   "cell_type": "code",
   "execution_count": 17,
   "metadata": {},
   "outputs": [],
   "source": [
    "def get_edit_distance(word1: str, word2: str) -> int:\n",
    "    words = [len(word1), len(word2)]\n",
    "    words.sort()\n",
    "    dist = words[1] - words[0]\n",
    "    for i, j in zip(word1, word2):\n",
    "        if i != j:\n",
    "            dist += 1\n",
    "    return dist"
   ]
  },
  {
   "cell_type": "code",
   "execution_count": 18,
   "metadata": {},
   "outputs": [
    {
     "name": "stdout",
     "output_type": "stream",
     "text": [
      "('cat', 'catch') 2\n",
      "('cooking', 'booking') 1\n",
      "('kitten', 'sitting') 3\n"
     ]
    }
   ],
   "source": [
    "# Testing time !\n",
    "\n",
    "words = [\n",
    "    (\"cat\", \"catch\"),\n",
    "    (\"cooking\", \"booking\"),\n",
    "    (\"kitten\", \"sitting\"),\n",
    "]\n",
    "\n",
    "for word in words:\n",
    "    print(word, get_edit_distance(word[0], word[1]))"
   ]
  }
 ],
 "metadata": {
  "kernelspec": {
   "display_name": "Python 3",
   "language": "python",
   "name": "python3"
  },
  "language_info": {
   "codemirror_mode": {
    "name": "ipython",
    "version": 3
   },
   "file_extension": ".py",
   "mimetype": "text/x-python",
   "name": "python",
   "nbconvert_exporter": "python",
   "pygments_lexer": "ipython3",
   "version": "3.8.1"
  }
 },
 "nbformat": 4,
 "nbformat_minor": 4
}
