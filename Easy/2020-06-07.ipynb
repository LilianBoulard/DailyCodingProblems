{
 "cells": [
  {
   "cell_type": "markdown",
   "metadata": {},
   "source": [
    "> Run-length encoding is a fast and simple method of encoding strings. The basic idea is to represent repeated successive characters as a single count and character. For example, the string \"AAAABBBCCDAA\" would be encoded as \"4A3B2C1D2A\".\n",
    "\n",
    "> Implement run-length encoding and decoding. You can assume the string to be encoded have no digits and consists solely of alphabetic characters. You can assume the string to be decoded is valid."
   ]
  },
  {
   "cell_type": "code",
   "execution_count": 11,
   "metadata": {},
   "outputs": [],
   "source": [
    "def encode_run_length(string: str) -> str:\n",
    "    final_code = \"\"\n",
    "    for i, e in enumerate(string):\n",
    "        if i == 0:\n",
    "            current_code = [0, e]\n",
    "        if e == current_code[1]:\n",
    "            current_code[0] += 1\n",
    "        else:\n",
    "            final_code += str(current_code[0]) + str(current_code[1])\n",
    "            current_code = [1, e]\n",
    "    else:\n",
    "        final_code += str(current_code[0]) + str(current_code[1])\n",
    "    return final_code"
   ]
  },
  {
   "cell_type": "code",
   "execution_count": 12,
   "metadata": {},
   "outputs": [
    {
     "name": "stdout",
     "output_type": "stream",
     "text": [
      "AAAABBBCCDAA 4A3B2C1D2A\n",
      "DDDIIIIOPMMELLADDDWWB 3D4I1O1P2M1E2L1A3D2W1B\n",
      "ABBCUEIZKLLKJ 1A2B1C1U1E1I1Z1K2L1K1J\n"
     ]
    }
   ],
   "source": [
    "# Time to test !\n",
    "\n",
    "strings = [\n",
    "    \"AAAABBBCCDAA\",\n",
    "    \"DDDIIIIOPMMELLADDDWWB\",\n",
    "    \"ABBCUEIZKLLKJ\",\n",
    "]\n",
    "\n",
    "for string in strings:\n",
    "    print(string, encode_run_length(string))"
   ]
  }
 ],
 "metadata": {
  "kernelspec": {
   "display_name": "Python 3",
   "language": "python",
   "name": "python3"
  },
  "language_info": {
   "codemirror_mode": {
    "name": "ipython",
    "version": 3
   },
   "file_extension": ".py",
   "mimetype": "text/x-python",
   "name": "python",
   "nbconvert_exporter": "python",
   "pygments_lexer": "ipython3",
   "version": "3.8.1"
  }
 },
 "nbformat": 4,
 "nbformat_minor": 4
}
