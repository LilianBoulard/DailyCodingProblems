{
 "cells": [
  {
   "cell_type": "markdown",
   "metadata": {},
   "source": [
    "> Using a function rand5() that returns an integer from 1 to 5 (inclusive) with uniform probability, implement a function rand7() that returns an integer from 1 to 7 (inclusive)."
   ]
  },
  {
   "cell_type": "code",
   "execution_count": 31,
   "metadata": {},
   "outputs": [],
   "source": [
    "# Implementing rand5()\n",
    "\n",
    "from random import randint\n",
    "\n",
    "def rand5():\n",
    "    return randint(1, 5)"
   ]
  },
  {
   "cell_type": "code",
   "execution_count": 32,
   "metadata": {},
   "outputs": [
    {
     "data": {
      "text/plain": [
       "[4, 5, 5, 4, 3, 1, 5, 5, 4, 3]"
      ]
     },
     "execution_count": 32,
     "metadata": {},
     "output_type": "execute_result"
    }
   ],
   "source": [
    "[rand5() for _ in range(10)]"
   ]
  },
  {
   "cell_type": "code",
   "execution_count": 33,
   "metadata": {},
   "outputs": [],
   "source": [
    "# Implementing rand7()\n",
    "\n",
    "def rand7():\n",
    "    # We compute two random numbers between 1 and 5, that we add up.\n",
    "    # We then do a modulo by 7 (so it will find a value between 0 and 6 included), \n",
    "    # to which we add 1 to get a random number between 1 and 7 included.\n",
    "    # One mistake I made was to multiply rand5() by two, which gives an even number every time.\n",
    "    # Not what we wanted, but could be useful if we wanted a generator \n",
    "    # that computes an even random number !\n",
    "    return ((rand5() + rand5()) % 7) + 1"
   ]
  },
  {
   "cell_type": "code",
   "execution_count": 34,
   "metadata": {},
   "outputs": [
    {
     "data": {
      "text/plain": [
       "[3, 2, 7, 6, 2, 2, 5, 7, 6, 2, 5, 3, 3, 2, 4, 5, 1, 5, 1, 6, 3, 4, 5, 1, 2]"
      ]
     },
     "execution_count": 34,
     "metadata": {},
     "output_type": "execute_result"
    }
   ],
   "source": [
    "[rand7() for _ in range(25)]"
   ]
  }
 ],
 "metadata": {
  "kernelspec": {
   "display_name": "Python 3",
   "language": "python",
   "name": "python3"
  },
  "language_info": {
   "codemirror_mode": {
    "name": "ipython",
    "version": 3
   },
   "file_extension": ".py",
   "mimetype": "text/x-python",
   "name": "python",
   "nbconvert_exporter": "python",
   "pygments_lexer": "ipython3",
   "version": "3.8.1"
  }
 },
 "nbformat": 4,
 "nbformat_minor": 4
}
